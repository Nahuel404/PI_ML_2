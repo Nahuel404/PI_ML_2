{
 "cells": [
  {
   "attachments": {},
   "cell_type": "markdown",
   "metadata": {},
   "source": [
    " <h6 style=\"text-align:right;\">Nahuel Nicolas Marin<h6>\n",
    "<p align=center><img src=https://d31uz8lwfmyn8g.cloudfront.net/Assets/logo-henry-white-lg.png><p>"
   ]
  },
  {
   "attachments": {},
   "cell_type": "markdown",
   "metadata": {},
   "source": [
    "<h1>Proyecto Individual N°1<h1>\n",
    "<p>\n",
    "<h5>En éste notebook me enfoco solo en las transformaciones que pide el trabajo y otras que creo necesarias<h5>\n",
    "<p>"
   ]
  },
  {
   "attachments": {},
   "cell_type": "markdown",
   "metadata": {},
   "source": [
    "<h3>Extracción Transformación y Carga de datos(ETL)<h3>"
   ]
  },
  {
   "cell_type": "code",
   "execution_count": 2,
   "metadata": {},
   "outputs": [],
   "source": [
    "#importamos librerías necesarias para el proceso de ETL\n",
    "import pandas as pd"
   ]
  },
  {
   "attachments": {},
   "cell_type": "markdown",
   "metadata": {},
   "source": [
    "<h4>Extracción"
   ]
  },
  {
   "cell_type": "code",
   "execution_count": 2,
   "metadata": {},
   "outputs": [],
   "source": [
    "#Extracción de los datos\n",
    "df_amazon=pd.read_csv('./datasets/amazon_prime_titles.csv')\n",
    "df_disney=pd.read_csv('./datasets/disney_plus_titles.csv')\n",
    "df_hulu=pd.read_csv('./datasets/hulu_titles.csv')\n",
    "df_netflix=pd.read_csv('./datasets/netflix_titles.csv')"
   ]
  },
  {
   "attachments": {},
   "cell_type": "markdown",
   "metadata": {},
   "source": [
    "<h4>Transformación<h4>"
   ]
  },
  {
   "cell_type": "code",
   "execution_count": 3,
   "metadata": {},
   "outputs": [],
   "source": [
    "#Reemplacé los nulos según pide la actividad\n",
    "df_amazon['rating'].fillna('G', inplace=True)\n",
    "df_disney['rating'].fillna('G', inplace=True)\n",
    "df_hulu['rating'].fillna('G', inplace=True)\n",
    "df_netflix['rating'].fillna('G', inplace=True)"
   ]
  },
  {
   "cell_type": "code",
   "execution_count": 18,
   "metadata": {},
   "outputs": [
    {
     "data": {
      "text/html": [
       "<div>\n",
       "<style scoped>\n",
       "    .dataframe tbody tr th:only-of-type {\n",
       "        vertical-align: middle;\n",
       "    }\n",
       "\n",
       "    .dataframe tbody tr th {\n",
       "        vertical-align: top;\n",
       "    }\n",
       "\n",
       "    .dataframe thead th {\n",
       "        text-align: right;\n",
       "    }\n",
       "</style>\n",
       "<table border=\"1\" class=\"dataframe\">\n",
       "  <thead>\n",
       "    <tr style=\"text-align: right;\">\n",
       "      <th></th>\n",
       "      <th>show_id</th>\n",
       "      <th>type</th>\n",
       "      <th>title</th>\n",
       "      <th>director</th>\n",
       "      <th>cast</th>\n",
       "      <th>country</th>\n",
       "      <th>date_added</th>\n",
       "      <th>release_year</th>\n",
       "      <th>rating</th>\n",
       "      <th>duration</th>\n",
       "      <th>listed_in</th>\n",
       "      <th>description</th>\n",
       "    </tr>\n",
       "  </thead>\n",
       "  <tbody>\n",
       "    <tr>\n",
       "      <th>0</th>\n",
       "      <td>s1</td>\n",
       "      <td>Movie</td>\n",
       "      <td>Ricky Velez: Here's Everything</td>\n",
       "      <td>NaN</td>\n",
       "      <td>NaN</td>\n",
       "      <td>NaN</td>\n",
       "      <td>October 24, 2021</td>\n",
       "      <td>2021</td>\n",
       "      <td>TV-MA</td>\n",
       "      <td>NaN</td>\n",
       "      <td>Comedy, Stand Up</td>\n",
       "      <td>​Comedian Ricky Velez bares it all with his ho...</td>\n",
       "    </tr>\n",
       "    <tr>\n",
       "      <th>1</th>\n",
       "      <td>s2</td>\n",
       "      <td>Movie</td>\n",
       "      <td>Silent Night</td>\n",
       "      <td>NaN</td>\n",
       "      <td>NaN</td>\n",
       "      <td>NaN</td>\n",
       "      <td>October 23, 2021</td>\n",
       "      <td>2020</td>\n",
       "      <td>G</td>\n",
       "      <td>94 min</td>\n",
       "      <td>Crime, Drama, Thriller</td>\n",
       "      <td>Mark, a low end South London hitman recently r...</td>\n",
       "    </tr>\n",
       "  </tbody>\n",
       "</table>\n",
       "</div>"
      ],
      "text/plain": [
       "  show_id   type                           title director  cast country  \\\n",
       "0      s1  Movie  Ricky Velez: Here's Everything      NaN   NaN     NaN   \n",
       "1      s2  Movie                    Silent Night      NaN   NaN     NaN   \n",
       "\n",
       "         date_added  release_year rating duration               listed_in  \\\n",
       "0  October 24, 2021          2021  TV-MA      NaN        Comedy, Stand Up   \n",
       "1  October 23, 2021          2020      G   94 min  Crime, Drama, Thriller   \n",
       "\n",
       "                                         description  \n",
       "0  ​Comedian Ricky Velez bares it all with his ho...  \n",
       "1  Mark, a low end South London hitman recently r...  "
      ]
     },
     "execution_count": 18,
     "metadata": {},
     "output_type": "execute_result"
    }
   ],
   "source": [
    "df_hulu[df_hulu.notnull()].head(2)\n",
    "#MES dia, año"
   ]
  },
  {
   "cell_type": "code",
   "execution_count": 4,
   "metadata": {},
   "outputs": [
    {
     "data": {
      "text/html": [
       "<div>\n",
       "<style scoped>\n",
       "    .dataframe tbody tr th:only-of-type {\n",
       "        vertical-align: middle;\n",
       "    }\n",
       "\n",
       "    .dataframe tbody tr th {\n",
       "        vertical-align: top;\n",
       "    }\n",
       "\n",
       "    .dataframe thead th {\n",
       "        text-align: right;\n",
       "    }\n",
       "</style>\n",
       "<table border=\"1\" class=\"dataframe\">\n",
       "  <thead>\n",
       "    <tr style=\"text-align: right;\">\n",
       "      <th></th>\n",
       "      <th>show_id</th>\n",
       "      <th>type</th>\n",
       "      <th>title</th>\n",
       "      <th>director</th>\n",
       "      <th>cast</th>\n",
       "      <th>country</th>\n",
       "      <th>date_added</th>\n",
       "      <th>release_year</th>\n",
       "      <th>rating</th>\n",
       "      <th>duration</th>\n",
       "      <th>listed_in</th>\n",
       "      <th>description</th>\n",
       "    </tr>\n",
       "  </thead>\n",
       "  <tbody>\n",
       "    <tr>\n",
       "      <th>0</th>\n",
       "      <td>s1</td>\n",
       "      <td>Movie</td>\n",
       "      <td>Ricky Velez: Here's Everything</td>\n",
       "      <td>NaN</td>\n",
       "      <td>NaN</td>\n",
       "      <td>NaN</td>\n",
       "      <td>2021/10/24</td>\n",
       "      <td>2021</td>\n",
       "      <td>TV-MA</td>\n",
       "      <td>NaN</td>\n",
       "      <td>Comedy, Stand Up</td>\n",
       "      <td>​Comedian Ricky Velez bares it all with his ho...</td>\n",
       "    </tr>\n",
       "    <tr>\n",
       "      <th>1</th>\n",
       "      <td>s2</td>\n",
       "      <td>Movie</td>\n",
       "      <td>Silent Night</td>\n",
       "      <td>NaN</td>\n",
       "      <td>NaN</td>\n",
       "      <td>NaN</td>\n",
       "      <td>2021/10/23</td>\n",
       "      <td>2020</td>\n",
       "      <td>G</td>\n",
       "      <td>94 min</td>\n",
       "      <td>Crime, Drama, Thriller</td>\n",
       "      <td>Mark, a low end South London hitman recently r...</td>\n",
       "    </tr>\n",
       "  </tbody>\n",
       "</table>\n",
       "</div>"
      ],
      "text/plain": [
       "  show_id   type                           title director  cast country  \\\n",
       "0      s1  Movie  Ricky Velez: Here's Everything      NaN   NaN     NaN   \n",
       "1      s2  Movie                    Silent Night      NaN   NaN     NaN   \n",
       "\n",
       "   date_added  release_year rating duration               listed_in  \\\n",
       "0  2021/10/24          2021  TV-MA      NaN        Comedy, Stand Up   \n",
       "1  2021/10/23          2020      G   94 min  Crime, Drama, Thriller   \n",
       "\n",
       "                                         description  \n",
       "0  ​Comedian Ricky Velez bares it all with his ho...  \n",
       "1  Mark, a low end South London hitman recently r...  "
      ]
     },
     "execution_count": 4,
     "metadata": {},
     "output_type": "execute_result"
    }
   ],
   "source": [
    "#Cambio de formato de las fechas\n",
    "df_amazon['date_added']=pd.to_datetime(df_amazon['date_added'])\n",
    "df_amazon['date_added']=df_amazon['date_added'].dt.strftime('%Y/%m/%d')\n",
    "df_disney['date_added']=pd.to_datetime(df_disney['date_added'])\n",
    "df_disney['date_added']=df_disney['date_added'].dt.strftime('%Y/%m/%d')\n",
    "df_hulu['date_added']=pd.to_datetime(df_hulu['date_added'])\n",
    "df_hulu['date_added']=df_hulu['date_added'].dt.strftime('%Y/%m/%d')\n",
    "df_netflix['date_added']=pd.to_datetime(df_netflix['date_added'])\n",
    "df_netflix['date_added']=df_netflix['date_added'].dt.strftime('%Y/%m/%d')\n",
    "df_hulu.head(2)"
   ]
  },
  {
   "attachments": {},
   "cell_type": "markdown",
   "metadata": {},
   "source": [
    "<h4>Proceso de crear el Id<h4>"
   ]
  },
  {
   "cell_type": "code",
   "execution_count": 5,
   "metadata": {},
   "outputs": [],
   "source": [
    "#guardo cada df en un diccionario \n",
    "df_complete={'df_amazon':df_amazon['show_id'], 'df_disney':df_disney['show_id'], 'df_hulu':df_hulu['show_id'], 'df_netflix':df_netflix['show_id']}\n"
   ]
  },
  {
   "cell_type": "code",
   "execution_count": 6,
   "metadata": {},
   "outputs": [],
   "source": [
    "#declaro variables y listas\n",
    "list=['a','d','h','n']\n",
    "Id_a=[]\n",
    "Id_d=[]\n",
    "Id_h=[]\n",
    "Id_n=[]\n",
    "list_ids=[Id_a, Id_d, Id_h, Id_n]\n",
    "i=-1\n",
    "var_aux=''\n",
    "\n",
    "#itero el diccionario para crear una lista de listas donde cada una de las listas contiene el ID de cada plataforma\n",
    "for df in df_complete:\n",
    "    df_iterar=df_complete[df]\n",
    "    i=i+1\n",
    "    j=-1\n",
    "    for regis in df_iterar:\n",
    "        j+=1\n",
    "        var_aux=list[i] + df_iterar.iloc[j]\n",
    "        list_ids[i].append(var_aux)\n",
    "\n",
    "#modifico los df agregando el ID\n",
    "df_amazon[\"id\"]=list_ids[0]\n",
    "df_disney[\"id\"]=list_ids[1]\n",
    "df_hulu[\"id\"]=list_ids[2]\n",
    "df_netflix[\"id\"]=list_ids[3]"
   ]
  },
  {
   "cell_type": "code",
   "execution_count": 22,
   "metadata": {},
   "outputs": [
    {
     "data": {
      "text/html": [
       "<div>\n",
       "<style scoped>\n",
       "    .dataframe tbody tr th:only-of-type {\n",
       "        vertical-align: middle;\n",
       "    }\n",
       "\n",
       "    .dataframe tbody tr th {\n",
       "        vertical-align: top;\n",
       "    }\n",
       "\n",
       "    .dataframe thead th {\n",
       "        text-align: right;\n",
       "    }\n",
       "</style>\n",
       "<table border=\"1\" class=\"dataframe\">\n",
       "  <thead>\n",
       "    <tr style=\"text-align: right;\">\n",
       "      <th></th>\n",
       "      <th>show_id</th>\n",
       "      <th>type</th>\n",
       "      <th>title</th>\n",
       "      <th>director</th>\n",
       "      <th>cast</th>\n",
       "      <th>country</th>\n",
       "      <th>date_added</th>\n",
       "      <th>release_year</th>\n",
       "      <th>rating</th>\n",
       "      <th>duration</th>\n",
       "      <th>listed_in</th>\n",
       "      <th>description</th>\n",
       "      <th>id</th>\n",
       "    </tr>\n",
       "  </thead>\n",
       "  <tbody>\n",
       "    <tr>\n",
       "      <th>9666</th>\n",
       "      <td>s9667</td>\n",
       "      <td>TV Show</td>\n",
       "      <td>Maradona: Blessed Dream</td>\n",
       "      <td>NaN</td>\n",
       "      <td>Esteban Recagno, Ezequiel Stremiz, Luciano Vit...</td>\n",
       "      <td>NaN</td>\n",
       "      <td>NaN</td>\n",
       "      <td>2021</td>\n",
       "      <td>TV-MA</td>\n",
       "      <td>1 Season</td>\n",
       "      <td>Drama, Sports</td>\n",
       "      <td>The series tells the story of Diego Maradona, ...</td>\n",
       "      <td>as9667</td>\n",
       "    </tr>\n",
       "    <tr>\n",
       "      <th>9667</th>\n",
       "      <td>s9668</td>\n",
       "      <td>Movie</td>\n",
       "      <td>Harry Brown</td>\n",
       "      <td>Daniel Barber</td>\n",
       "      <td>Michael Caine, Emily Mortimer, Joseph Gilgun, ...</td>\n",
       "      <td>NaN</td>\n",
       "      <td>NaN</td>\n",
       "      <td>2010</td>\n",
       "      <td>R</td>\n",
       "      <td>103 min</td>\n",
       "      <td>Action, Drama, Suspense</td>\n",
       "      <td>Harry Brown, starring two-time Academy Award w...</td>\n",
       "      <td>as9668</td>\n",
       "    </tr>\n",
       "  </tbody>\n",
       "</table>\n",
       "</div>"
      ],
      "text/plain": [
       "     show_id     type                    title       director  \\\n",
       "9666   s9667  TV Show  Maradona: Blessed Dream            NaN   \n",
       "9667   s9668    Movie              Harry Brown  Daniel Barber   \n",
       "\n",
       "                                                   cast country date_added  \\\n",
       "9666  Esteban Recagno, Ezequiel Stremiz, Luciano Vit...     NaN        NaN   \n",
       "9667  Michael Caine, Emily Mortimer, Joseph Gilgun, ...     NaN        NaN   \n",
       "\n",
       "      release_year rating  duration                listed_in  \\\n",
       "9666          2021  TV-MA  1 Season            Drama, Sports   \n",
       "9667          2010      R   103 min  Action, Drama, Suspense   \n",
       "\n",
       "                                            description      id  \n",
       "9666  The series tells the story of Diego Maradona, ...  as9667  \n",
       "9667  Harry Brown, starring two-time Academy Award w...  as9668  "
      ]
     },
     "execution_count": 22,
     "metadata": {},
     "output_type": "execute_result"
    }
   ],
   "source": [
    "df_amazon.tail(2)"
   ]
  },
  {
   "attachments": {},
   "cell_type": "markdown",
   "metadata": {},
   "source": [
    "<h4>Ponemos todos los registros en minúsculas<h4>"
   ]
  },
  {
   "cell_type": "code",
   "execution_count": 7,
   "metadata": {},
   "outputs": [],
   "source": [
    "df_amazon=df_amazon.applymap(lambda s: s.lower() if isinstance(s, str) else s)\n",
    "df_disney=df_disney.applymap(lambda s: s.lower() if isinstance(s, str) else s)\n",
    "df_hulu=df_hulu.applymap(lambda s: s.lower() if isinstance(s, str) else s)\n",
    "df_netflix=df_netflix.applymap(lambda s: s.lower() if isinstance(s, str) else s)\n"
   ]
  },
  {
   "attachments": {},
   "cell_type": "markdown",
   "metadata": {},
   "source": [
    "<h4>Cambiamos el formato de la duración</h4>"
   ]
  },
  {
   "cell_type": "code",
   "execution_count": 8,
   "metadata": {},
   "outputs": [],
   "source": [
    "df_amazon[['duration_int','duration_type']]=df_amazon['duration'].str.split(' ', expand=True)\n",
    "df_disney[['duration_int','duration_type']]=df_disney['duration'].str.split(' ', expand=True)\n",
    "df_hulu[['duration_int','duration_type']]=df_hulu['duration'].str.split(' ', expand=True)\n",
    "df_netflix[['duration_int','duration_type']]=df_netflix['duration'].str.split(' ', expand=True)"
   ]
  },
  {
   "cell_type": "code",
   "execution_count": 25,
   "metadata": {},
   "outputs": [
    {
     "data": {
      "text/html": [
       "<div>\n",
       "<style scoped>\n",
       "    .dataframe tbody tr th:only-of-type {\n",
       "        vertical-align: middle;\n",
       "    }\n",
       "\n",
       "    .dataframe tbody tr th {\n",
       "        vertical-align: top;\n",
       "    }\n",
       "\n",
       "    .dataframe thead th {\n",
       "        text-align: right;\n",
       "    }\n",
       "</style>\n",
       "<table border=\"1\" class=\"dataframe\">\n",
       "  <thead>\n",
       "    <tr style=\"text-align: right;\">\n",
       "      <th></th>\n",
       "      <th>show_id</th>\n",
       "      <th>type</th>\n",
       "      <th>title</th>\n",
       "      <th>director</th>\n",
       "      <th>cast</th>\n",
       "      <th>country</th>\n",
       "      <th>date_added</th>\n",
       "      <th>release_year</th>\n",
       "      <th>rating</th>\n",
       "      <th>duration</th>\n",
       "      <th>listed_in</th>\n",
       "      <th>description</th>\n",
       "      <th>id</th>\n",
       "      <th>duration_int</th>\n",
       "      <th>duration_type</th>\n",
       "    </tr>\n",
       "  </thead>\n",
       "  <tbody>\n",
       "    <tr>\n",
       "      <th>0</th>\n",
       "      <td>s1</td>\n",
       "      <td>movie</td>\n",
       "      <td>dick johnson is dead</td>\n",
       "      <td>kirsten johnson</td>\n",
       "      <td>NaN</td>\n",
       "      <td>united states</td>\n",
       "      <td>2021/09/25</td>\n",
       "      <td>2020</td>\n",
       "      <td>pg-13</td>\n",
       "      <td>90 min</td>\n",
       "      <td>documentaries</td>\n",
       "      <td>as her father nears the end of his life, filmm...</td>\n",
       "      <td>ns1</td>\n",
       "      <td>90</td>\n",
       "      <td>min</td>\n",
       "    </tr>\n",
       "    <tr>\n",
       "      <th>1</th>\n",
       "      <td>s2</td>\n",
       "      <td>tv show</td>\n",
       "      <td>blood &amp; water</td>\n",
       "      <td>NaN</td>\n",
       "      <td>ama qamata, khosi ngema, gail mabalane, thaban...</td>\n",
       "      <td>south africa</td>\n",
       "      <td>2021/09/24</td>\n",
       "      <td>2021</td>\n",
       "      <td>tv-ma</td>\n",
       "      <td>2 seasons</td>\n",
       "      <td>international tv shows, tv dramas, tv mysteries</td>\n",
       "      <td>after crossing paths at a party, a cape town t...</td>\n",
       "      <td>ns2</td>\n",
       "      <td>2</td>\n",
       "      <td>seasons</td>\n",
       "    </tr>\n",
       "  </tbody>\n",
       "</table>\n",
       "</div>"
      ],
      "text/plain": [
       "  show_id     type                 title         director  \\\n",
       "0      s1    movie  dick johnson is dead  kirsten johnson   \n",
       "1      s2  tv show         blood & water              NaN   \n",
       "\n",
       "                                                cast        country  \\\n",
       "0                                                NaN  united states   \n",
       "1  ama qamata, khosi ngema, gail mabalane, thaban...   south africa   \n",
       "\n",
       "   date_added  release_year rating   duration  \\\n",
       "0  2021/09/25          2020  pg-13     90 min   \n",
       "1  2021/09/24          2021  tv-ma  2 seasons   \n",
       "\n",
       "                                         listed_in  \\\n",
       "0                                    documentaries   \n",
       "1  international tv shows, tv dramas, tv mysteries   \n",
       "\n",
       "                                         description   id duration_int  \\\n",
       "0  as her father nears the end of his life, filmm...  ns1           90   \n",
       "1  after crossing paths at a party, a cape town t...  ns2            2   \n",
       "\n",
       "  duration_type  \n",
       "0           min  \n",
       "1       seasons  "
      ]
     },
     "execution_count": 25,
     "metadata": {},
     "output_type": "execute_result"
    }
   ],
   "source": [
    "df_netflix.head(2)"
   ]
  },
  {
   "attachments": {},
   "cell_type": "markdown",
   "metadata": {},
   "source": [
    "<h4>Guardo los DataFrames en formato csv</h4>"
   ]
  },
  {
   "cell_type": "code",
   "execution_count": 26,
   "metadata": {},
   "outputs": [],
   "source": [
    "df_amazon.to_csv('Amazon_clear.csv')\n",
    "df_disney.to_csv('Disney_clear.csv')\n",
    "df_hulu.to_csv('Hulu_clear.csv')\n",
    "df_netflix.to_csv('Netflix_clear.csv')"
   ]
  },
  {
   "cell_type": "code",
   "execution_count": 9,
   "metadata": {},
   "outputs": [],
   "source": [
    "#concateno cada df de la carpeta rating en un solo df \n",
    "df_rating=pd.concat([pd.read_csv('datasets/ratings/1.csv'),pd.read_csv('datasets/ratings/2.csv'),pd.read_csv('datasets/ratings/3.csv'),pd.read_csv('datasets/ratings/4.csv'),pd.read_csv('datasets/ratings/5.csv'),pd.read_csv('datasets/ratings/6.csv'),pd.read_csv('datasets/ratings/7.csv'),pd.read_csv('datasets/ratings/8.csv')])"
   ]
  },
  {
   "cell_type": "code",
   "execution_count": 10,
   "metadata": {},
   "outputs": [],
   "source": [
    "#cambio el nombre de la columna rating\n",
    "df_rating = df_rating.rename(columns = {'rating' : 'score'})"
   ]
  },
  {
   "cell_type": "code",
   "execution_count": 29,
   "metadata": {},
   "outputs": [
    {
     "data": {
      "text/html": [
       "<div>\n",
       "<style scoped>\n",
       "    .dataframe tbody tr th:only-of-type {\n",
       "        vertical-align: middle;\n",
       "    }\n",
       "\n",
       "    .dataframe tbody tr th {\n",
       "        vertical-align: top;\n",
       "    }\n",
       "\n",
       "    .dataframe thead th {\n",
       "        text-align: right;\n",
       "    }\n",
       "</style>\n",
       "<table border=\"1\" class=\"dataframe\">\n",
       "  <thead>\n",
       "    <tr style=\"text-align: right;\">\n",
       "      <th></th>\n",
       "      <th>userId</th>\n",
       "      <th>score</th>\n",
       "      <th>timestamp</th>\n",
       "      <th>movieId</th>\n",
       "    </tr>\n",
       "  </thead>\n",
       "  <tbody>\n",
       "    <tr>\n",
       "      <th>0</th>\n",
       "      <td>1</td>\n",
       "      <td>1.0</td>\n",
       "      <td>1425941529</td>\n",
       "      <td>as680</td>\n",
       "    </tr>\n",
       "    <tr>\n",
       "      <th>1</th>\n",
       "      <td>1</td>\n",
       "      <td>4.5</td>\n",
       "      <td>1425942435</td>\n",
       "      <td>ns2186</td>\n",
       "    </tr>\n",
       "    <tr>\n",
       "      <th>2</th>\n",
       "      <td>1</td>\n",
       "      <td>5.0</td>\n",
       "      <td>1425941523</td>\n",
       "      <td>hs2381</td>\n",
       "    </tr>\n",
       "    <tr>\n",
       "      <th>3</th>\n",
       "      <td>1</td>\n",
       "      <td>5.0</td>\n",
       "      <td>1425941546</td>\n",
       "      <td>ns3663</td>\n",
       "    </tr>\n",
       "    <tr>\n",
       "      <th>4</th>\n",
       "      <td>1</td>\n",
       "      <td>5.0</td>\n",
       "      <td>1425941556</td>\n",
       "      <td>as9500</td>\n",
       "    </tr>\n",
       "  </tbody>\n",
       "</table>\n",
       "</div>"
      ],
      "text/plain": [
       "   userId  score   timestamp movieId\n",
       "0       1    1.0  1425941529   as680\n",
       "1       1    4.5  1425942435  ns2186\n",
       "2       1    5.0  1425941523  hs2381\n",
       "3       1    5.0  1425941546  ns3663\n",
       "4       1    5.0  1425941556  as9500"
      ]
     },
     "execution_count": 29,
     "metadata": {},
     "output_type": "execute_result"
    }
   ],
   "source": [
    "df_rating.head(5)"
   ]
  },
  {
   "cell_type": "code",
   "execution_count": 11,
   "metadata": {},
   "outputs": [
    {
     "data": {
      "text/html": [
       "<div>\n",
       "<style scoped>\n",
       "    .dataframe tbody tr th:only-of-type {\n",
       "        vertical-align: middle;\n",
       "    }\n",
       "\n",
       "    .dataframe tbody tr th {\n",
       "        vertical-align: top;\n",
       "    }\n",
       "\n",
       "    .dataframe thead th {\n",
       "        text-align: right;\n",
       "    }\n",
       "</style>\n",
       "<table border=\"1\" class=\"dataframe\">\n",
       "  <thead>\n",
       "    <tr style=\"text-align: right;\">\n",
       "      <th></th>\n",
       "      <th>show_id</th>\n",
       "      <th>type</th>\n",
       "      <th>title</th>\n",
       "      <th>director</th>\n",
       "      <th>cast</th>\n",
       "      <th>country</th>\n",
       "      <th>date_added</th>\n",
       "      <th>release_year</th>\n",
       "      <th>rating</th>\n",
       "      <th>duration</th>\n",
       "      <th>listed_in</th>\n",
       "      <th>description</th>\n",
       "      <th>id</th>\n",
       "      <th>duration_int</th>\n",
       "      <th>duration_type</th>\n",
       "      <th>platform</th>\n",
       "    </tr>\n",
       "  </thead>\n",
       "  <tbody>\n",
       "    <tr>\n",
       "      <th>0</th>\n",
       "      <td>s1</td>\n",
       "      <td>movie</td>\n",
       "      <td>the grand seduction</td>\n",
       "      <td>don mckellar</td>\n",
       "      <td>brendan gleeson, taylor kitsch, gordon pinsent</td>\n",
       "      <td>canada</td>\n",
       "      <td>2021/03/30</td>\n",
       "      <td>2014</td>\n",
       "      <td>g</td>\n",
       "      <td>113 min</td>\n",
       "      <td>comedy, drama</td>\n",
       "      <td>a small fishing village must procure a local d...</td>\n",
       "      <td>as1</td>\n",
       "      <td>113</td>\n",
       "      <td>min</td>\n",
       "      <td>amazon</td>\n",
       "    </tr>\n",
       "    <tr>\n",
       "      <th>1</th>\n",
       "      <td>s2</td>\n",
       "      <td>movie</td>\n",
       "      <td>take care good night</td>\n",
       "      <td>girish joshi</td>\n",
       "      <td>mahesh manjrekar, abhay mahajan, sachin khedekar</td>\n",
       "      <td>india</td>\n",
       "      <td>2021/03/30</td>\n",
       "      <td>2018</td>\n",
       "      <td>13+</td>\n",
       "      <td>110 min</td>\n",
       "      <td>drama, international</td>\n",
       "      <td>a metro family decides to fight a cyber crimin...</td>\n",
       "      <td>as2</td>\n",
       "      <td>110</td>\n",
       "      <td>min</td>\n",
       "      <td>amazon</td>\n",
       "    </tr>\n",
       "  </tbody>\n",
       "</table>\n",
       "</div>"
      ],
      "text/plain": [
       "  show_id   type                 title      director  \\\n",
       "0      s1  movie   the grand seduction  don mckellar   \n",
       "1      s2  movie  take care good night  girish joshi   \n",
       "\n",
       "                                               cast country  date_added  \\\n",
       "0    brendan gleeson, taylor kitsch, gordon pinsent  canada  2021/03/30   \n",
       "1  mahesh manjrekar, abhay mahajan, sachin khedekar   india  2021/03/30   \n",
       "\n",
       "   release_year rating duration             listed_in  \\\n",
       "0          2014      g  113 min         comedy, drama   \n",
       "1          2018    13+  110 min  drama, international   \n",
       "\n",
       "                                         description   id duration_int  \\\n",
       "0  a small fishing village must procure a local d...  as1          113   \n",
       "1  a metro family decides to fight a cyber crimin...  as2          110   \n",
       "\n",
       "  duration_type platform  \n",
       "0           min   amazon  \n",
       "1           min   amazon  "
      ]
     },
     "execution_count": 11,
     "metadata": {},
     "output_type": "execute_result"
    }
   ],
   "source": [
    "df_amazon['platform']='amazon'\n",
    "df_disney['platform']='disney'\n",
    "df_hulu['platform']='hulu'\n",
    "df_netflix['platform']='netflix'\n",
    "df_amazon.head(2)\n"
   ]
  },
  {
   "cell_type": "code",
   "execution_count": 12,
   "metadata": {},
   "outputs": [
    {
     "data": {
      "text/html": [
       "<div>\n",
       "<style scoped>\n",
       "    .dataframe tbody tr th:only-of-type {\n",
       "        vertical-align: middle;\n",
       "    }\n",
       "\n",
       "    .dataframe tbody tr th {\n",
       "        vertical-align: top;\n",
       "    }\n",
       "\n",
       "    .dataframe thead th {\n",
       "        text-align: right;\n",
       "    }\n",
       "</style>\n",
       "<table border=\"1\" class=\"dataframe\">\n",
       "  <thead>\n",
       "    <tr style=\"text-align: right;\">\n",
       "      <th></th>\n",
       "      <th>show_id</th>\n",
       "      <th>type</th>\n",
       "      <th>title</th>\n",
       "      <th>director</th>\n",
       "      <th>cast</th>\n",
       "      <th>country</th>\n",
       "      <th>date_added</th>\n",
       "      <th>release_year</th>\n",
       "      <th>rating</th>\n",
       "      <th>duration</th>\n",
       "      <th>listed_in</th>\n",
       "      <th>description</th>\n",
       "      <th>id</th>\n",
       "      <th>duration_int</th>\n",
       "      <th>duration_type</th>\n",
       "      <th>platform</th>\n",
       "    </tr>\n",
       "  </thead>\n",
       "  <tbody>\n",
       "    <tr>\n",
       "      <th>8805</th>\n",
       "      <td>s8806</td>\n",
       "      <td>movie</td>\n",
       "      <td>zoom</td>\n",
       "      <td>peter hewitt</td>\n",
       "      <td>tim allen, courteney cox, chevy chase, kate ma...</td>\n",
       "      <td>united states</td>\n",
       "      <td>2020/01/11</td>\n",
       "      <td>2006</td>\n",
       "      <td>pg</td>\n",
       "      <td>88 min</td>\n",
       "      <td>children &amp; family movies, comedies</td>\n",
       "      <td>dragged from civilian life, a former superhero...</td>\n",
       "      <td>ns8806</td>\n",
       "      <td>88</td>\n",
       "      <td>min</td>\n",
       "      <td>netflix</td>\n",
       "    </tr>\n",
       "    <tr>\n",
       "      <th>8806</th>\n",
       "      <td>s8807</td>\n",
       "      <td>movie</td>\n",
       "      <td>zubaan</td>\n",
       "      <td>mozez singh</td>\n",
       "      <td>vicky kaushal, sarah-jane dias, raaghav chanan...</td>\n",
       "      <td>india</td>\n",
       "      <td>2019/03/02</td>\n",
       "      <td>2015</td>\n",
       "      <td>tv-14</td>\n",
       "      <td>111 min</td>\n",
       "      <td>dramas, international movies, music &amp; musicals</td>\n",
       "      <td>a scrappy but poor boy worms his way into a ty...</td>\n",
       "      <td>ns8807</td>\n",
       "      <td>111</td>\n",
       "      <td>min</td>\n",
       "      <td>netflix</td>\n",
       "    </tr>\n",
       "  </tbody>\n",
       "</table>\n",
       "</div>"
      ],
      "text/plain": [
       "     show_id   type   title      director  \\\n",
       "8805   s8806  movie    zoom  peter hewitt   \n",
       "8806   s8807  movie  zubaan   mozez singh   \n",
       "\n",
       "                                                   cast        country  \\\n",
       "8805  tim allen, courteney cox, chevy chase, kate ma...  united states   \n",
       "8806  vicky kaushal, sarah-jane dias, raaghav chanan...          india   \n",
       "\n",
       "      date_added  release_year rating duration  \\\n",
       "8805  2020/01/11          2006     pg   88 min   \n",
       "8806  2019/03/02          2015  tv-14  111 min   \n",
       "\n",
       "                                           listed_in  \\\n",
       "8805              children & family movies, comedies   \n",
       "8806  dramas, international movies, music & musicals   \n",
       "\n",
       "                                            description      id duration_int  \\\n",
       "8805  dragged from civilian life, a former superhero...  ns8806           88   \n",
       "8806  a scrappy but poor boy worms his way into a ty...  ns8807          111   \n",
       "\n",
       "     duration_type platform  \n",
       "8805           min  netflix  \n",
       "8806           min  netflix  "
      ]
     },
     "execution_count": 12,
     "metadata": {},
     "output_type": "execute_result"
    }
   ],
   "source": [
    "df_unique=pd.concat([df_amazon,df_disney,df_hulu,df_netflix])\n",
    "df_unique.tail(2)"
   ]
  },
  {
   "cell_type": "code",
   "execution_count": 30,
   "metadata": {},
   "outputs": [],
   "source": [
    "#exporto en formato csv\n",
    "df_rating.to_csv('Rating.csv')"
   ]
  },
  {
   "cell_type": "code",
   "execution_count": 18,
   "metadata": {},
   "outputs": [],
   "source": [
    "df_unique.to_csv('plataformas_unique.csv')"
   ]
  },
  {
   "cell_type": "code",
   "execution_count": 13,
   "metadata": {},
   "outputs": [],
   "source": [
    "df_withscore=df_unique.merge(df_rating, left_on=\"id\", right_on=\"movieId\")"
   ]
  },
  {
   "cell_type": "code",
   "execution_count": 14,
   "metadata": {},
   "outputs": [
    {
     "ename": "",
     "evalue": "",
     "output_type": "error",
     "traceback": [
      "\u001b[1;31mThe Kernel crashed while executing code in the the current cell or a previous cell. Please review the code in the cell(s) to identify a possible cause of the failure. Click <a href='https://aka.ms/vscodeJupyterKernelCrash'>here</a> for more info. View Jupyter <a href='command:jupyter.viewOutput'>log</a> for further details."
     ]
    }
   ],
   "source": [
    "df_withscore.to_csv('plataformas_withscore.csv')"
   ]
  },
  {
   "attachments": {},
   "cell_type": "markdown",
   "metadata": {},
   "source": [
    "##### voy a crear el dataset que voy a usar en todo lo que sigue del trabajo "
   ]
  },
  {
   "cell_type": "code",
   "execution_count": null,
   "metadata": {},
   "outputs": [],
   "source": [
    "df_score = pd.read_csv('../datasets/def_datasets/plataformas_unique.csv')\n",
    "promedio_por_id = df_score.groupby('movieId')['score'].mean()\n",
    "df_con_promedio = df_score.merge(promedio_por_id, on='movieId', suffixes=['', '_promedio'])\n",
    "#estas lineas de codigo las usé para crear el csv \"plataformas_completo.csv\" que voy a citar adelante para continuar la transformación"
   ]
  },
  {
   "cell_type": "code",
   "execution_count": 3,
   "metadata": {},
   "outputs": [
    {
     "name": "stderr",
     "output_type": "stream",
     "text": [
      "C:\\Users\\yesen\\AppData\\Local\\Temp\\ipykernel_10692\\3782773637.py:2: DtypeWarning: Columns (6,8,9) have mixed types. Specify dtype option on import or set low_memory=False.\n",
      "  df_score = pd.read_csv(\"./datasets/def_datasets/plataformas_completo.csv\")\n"
     ]
    }
   ],
   "source": [
    "#continúo transformación\n",
    "df_score = pd.read_csv(\"./datasets/def_datasets/plataformas_completo.csv\")"
   ]
  },
  {
   "attachments": {},
   "cell_type": "markdown",
   "metadata": {},
   "source": [
    "## Transformaciones que voy haciendo según lo requieran las actividades "
   ]
  },
  {
   "cell_type": "code",
   "execution_count": 11,
   "metadata": {},
   "outputs": [],
   "source": [
    "#reemplazo los nulos de la columna \"cast\" por \"unknown\"\n",
    "df_score[\"cast\"].fillna('unknown', inplace=True)"
   ]
  },
  {
   "cell_type": "code",
   "execution_count": 12,
   "metadata": {},
   "outputs": [
    {
     "data": {
      "text/plain": [
       "Unnamed: 0.1            0\n",
       "Unnamed: 0              0\n",
       "show_id                 0\n",
       "type                    0\n",
       "title                   0\n",
       "director          3960615\n",
       "cast                    0\n",
       "country           5510080\n",
       "date_added        4577546\n",
       "release_year            0\n",
       "rating                  0\n",
       "duration           231117\n",
       "listed_in               0\n",
       "description          1815\n",
       "id                      0\n",
       "duration_int       231117\n",
       "duration_type      231117\n",
       "platform                0\n",
       "userId                  0\n",
       "score                   0\n",
       "timestamp               0\n",
       "movieId                 0\n",
       "score_promedio          0\n",
       "dtype: int64"
      ]
     },
     "execution_count": 12,
     "metadata": {},
     "output_type": "execute_result"
    }
   ],
   "source": [
    "df_score.isnull().sum()"
   ]
  },
  {
   "cell_type": "code",
   "execution_count": 5,
   "metadata": {},
   "outputs": [
    {
     "data": {
      "text/plain": [
       "Unnamed: 0.2            0\n",
       "Unnamed: 0.1            0\n",
       "Unnamed: 0              0\n",
       "show_id                 0\n",
       "type                    0\n",
       "title                   0\n",
       "director          3960615\n",
       "cast                    0\n",
       "country                 0\n",
       "date_added        4577546\n",
       "release_year            0\n",
       "rating                  0\n",
       "duration           231117\n",
       "listed_in               0\n",
       "description          1815\n",
       "id                      0\n",
       "duration_int       231117\n",
       "duration_type      231117\n",
       "platform                0\n",
       "userId                  0\n",
       "score                   0\n",
       "timestamp               0\n",
       "movieId                 0\n",
       "score_promedio          0\n",
       "dtype: int64"
      ]
     },
     "execution_count": 5,
     "metadata": {},
     "output_type": "execute_result"
    }
   ],
   "source": [
    "#reemplazo los nulos de la columna \"country\" por \"unknown\"\n",
    "df_score['country'].fillna('unknown', inplace=True)\n",
    "df_score.isnull().sum()"
   ]
  },
  {
   "cell_type": "code",
   "execution_count": 6,
   "metadata": {},
   "outputs": [
    {
     "data": {
      "text/plain": [
       "tv-ma      1763550\n",
       "tv-14      1505382\n",
       "r          1030752\n",
       "13+        1013673\n",
       "tv-pg       792925\n",
       "            ...   \n",
       "61 min         456\n",
       "136 min        455\n",
       "45 min         455\n",
       "130 min        450\n",
       "121 min        447\n",
       "Name: rating, Length: 105, dtype: int64"
      ]
     },
     "execution_count": 6,
     "metadata": {},
     "output_type": "execute_result"
    }
   ],
   "source": [
    "#me fijo los valores individuales de la columna rating y me doy cuenta de que tiene duraciones \n",
    "df_score['rating'].value_counts()"
   ]
  },
  {
   "cell_type": "code",
   "execution_count": 7,
   "metadata": {},
   "outputs": [],
   "source": [
    "#reemplazo duraciones y redundancias en la columna rating\n",
    "df_score[\"rating\"] = df_score[\"rating\"].str.replace(\".*min\", \"sin_dato\", regex=True)\n",
    "df_score[\"rating\"] = df_score[\"rating\"].str.replace(\".*seasons\", \"sin_dato\", regex=True)\n",
    "df_score[\"rating\"] = df_score[\"rating\"].str.replace(\".*season\", \"sin_dato\", regex=True)\n",
    "df_score[\"rating\"] = df_score[\"rating\"].str.replace(\"^16.*\", \"+16\", regex=True)\n",
    "df_score[\"rating\"] = df_score[\"rating\"].str.replace(\"^18.*\", \"+18\", regex=True)\n",
    "df_score[\"rating\"] = df_score[\"rating\"].str.replace(\"all_ages\", \"all\", regex=True)\n",
    "df_score[\"rating\"] = df_score[\"rating\"].str.replace(\"sin_dato\", \"not_rate\", regex=True)\n",
    "df_score[\"rating\"] = df_score[\"rating\"].str.replace(\"not rated\", \"not_rate\", regex=True)\n",
    "df_score[\"rating\"] = df_score[\"rating\"].str.replace(\"^ages_16_\", \"+16\", regex=True)\n",
    "df_score[\"rating\"] = df_score[\"rating\"].str.replace(\"^ages_18_\", \"+18\", regex=True)"
   ]
  },
  {
   "cell_type": "code",
   "execution_count": 8,
   "metadata": {},
   "outputs": [
    {
     "data": {
      "text/plain": [
       "tv-ma       1763550\n",
       "tv-14       1505382\n",
       "r           1030752\n",
       "13+         1013673\n",
       "tv-pg        792925\n",
       "+16          741897\n",
       "g            608418\n",
       "all          608076\n",
       "+18          596754\n",
       "pg-13        533194\n",
       "pg           423771\n",
       "tv-g         367286\n",
       "tv-y7        263114\n",
       "tv-y         221399\n",
       "7+           185105\n",
       "nr           145527\n",
       "not_rate     143516\n",
       "tv-nr         50608\n",
       "unrated       15758\n",
       "tv-y7-fv       9244\n",
       "nc-17          2861\n",
       "ur             1479\n",
       "Name: rating, dtype: int64"
      ]
     },
     "execution_count": 8,
     "metadata": {},
     "output_type": "execute_result"
    }
   ],
   "source": [
    "#verificamos\n",
    "df_score['rating'].value_counts()"
   ]
  },
  {
   "cell_type": "code",
   "execution_count": 9,
   "metadata": {},
   "outputs": [],
   "source": [
    "#exportamos csv corregido y listo para ser usado por la API\n",
    "df_score.to_csv('plataformas_completo.csv')"
   ]
  }
 ],
 "metadata": {
  "kernelspec": {
   "display_name": "Python 3",
   "language": "python",
   "name": "python3"
  },
  "language_info": {
   "codemirror_mode": {
    "name": "ipython",
    "version": 3
   },
   "file_extension": ".py",
   "mimetype": "text/x-python",
   "name": "python",
   "nbconvert_exporter": "python",
   "pygments_lexer": "ipython3",
   "version": "3.11.2"
  },
  "orig_nbformat": 4
 },
 "nbformat": 4,
 "nbformat_minor": 2
}
