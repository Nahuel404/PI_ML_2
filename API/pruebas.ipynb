{
 "cells": [
  {
   "cell_type": "code",
   "execution_count": 1,
   "metadata": {},
   "outputs": [],
   "source": [
    "import pandas as pd"
   ]
  },
  {
   "cell_type": "code",
   "execution_count": 2,
   "metadata": {},
   "outputs": [],
   "source": [
    "release_year=2021\n",
    "scored=3.5\n",
    "platform='disney'"
   ]
  },
  {
   "cell_type": "code",
   "execution_count": 3,
   "metadata": {},
   "outputs": [
    {
     "name": "stderr",
     "output_type": "stream",
     "text": [
      "C:\\Users\\yesen\\AppData\\Local\\Temp\\ipykernel_3848\\997893996.py:1: DtypeWarning: Columns (7,10) have mixed types. Specify dtype option on import or set low_memory=False.\n",
      "  df_score = pd.read_csv('../datasets/def_datasets/plataformas_completo.csv')\n"
     ]
    }
   ],
   "source": [
    "df_score = pd.read_csv('../datasets/def_datasets/plataformas_completo.csv')"
   ]
  },
  {
   "cell_type": "code",
   "execution_count": 12,
   "metadata": {},
   "outputs": [
    {
     "data": {
      "text/plain": [
       "movieId\n",
       "as1       3.467131\n",
       "as10      3.439571\n",
       "as100     3.609302\n",
       "as1000    3.556701\n",
       "as1001    3.585288\n",
       "Name: score, dtype: float64"
      ]
     },
     "execution_count": 12,
     "metadata": {},
     "output_type": "execute_result"
    }
   ],
   "source": [
    "promedio_por_id = df_score.groupby('movieId')['score'].mean()\n",
    "promedio_por_id.head(5)"
   ]
  },
  {
   "cell_type": "code",
   "execution_count": 13,
   "metadata": {},
   "outputs": [],
   "source": [
    "df_con_promedio = df_score.merge(promedio_por_id, on='movieId', suffixes=['', '_promedio'])"
   ]
  },
  {
   "cell_type": "code",
   "execution_count": 15,
   "metadata": {},
   "outputs": [],
   "source": [
    "df_con_promedio.to_csv('plataformas_completo.csv')"
   ]
  },
  {
   "cell_type": "code",
   "execution_count": 27,
   "metadata": {},
   "outputs": [
    {
     "data": {
      "text/plain": [
       "{'plataforma': 'netflix', 'anio': 2020, 'cantidad': 401, 'score': 3.5}"
      ]
     },
     "execution_count": 27,
     "metadata": {},
     "output_type": "execute_result"
    }
   ],
   "source": [
    "mask = (df_score['release_year'] == release_year) & (df_score['score_promedio'] > scored) & (df_score['platform'] == platform) & (df_score.type == 'movie')\n",
    "\n",
    "df_aux = df_score[mask]\n",
    "\n",
    "cantidad=len(df_aux['movieId'].drop_duplicates().index)\n",
    "respuesta={\n",
    "    'plataforma': platform,\n",
    "    'anio': release_year,\n",
    "    'cantidad': cantidad,\n",
    "    'score': scored\n",
    "}\n",
    "respuesta"
   ]
  },
  {
   "cell_type": "code",
   "execution_count": 14,
   "metadata": {},
   "outputs": [
    {
     "data": {
      "text/html": [
       "<div>\n",
       "<style scoped>\n",
       "    .dataframe tbody tr th:only-of-type {\n",
       "        vertical-align: middle;\n",
       "    }\n",
       "\n",
       "    .dataframe tbody tr th {\n",
       "        vertical-align: top;\n",
       "    }\n",
       "\n",
       "    .dataframe thead th {\n",
       "        text-align: right;\n",
       "    }\n",
       "</style>\n",
       "<table border=\"1\" class=\"dataframe\">\n",
       "  <thead>\n",
       "    <tr style=\"text-align: right;\">\n",
       "      <th></th>\n",
       "      <th>Unnamed: 0</th>\n",
       "      <th>show_id</th>\n",
       "      <th>type</th>\n",
       "      <th>title</th>\n",
       "      <th>director</th>\n",
       "      <th>cast</th>\n",
       "      <th>country</th>\n",
       "      <th>date_added</th>\n",
       "      <th>release_year</th>\n",
       "      <th>rating</th>\n",
       "      <th>...</th>\n",
       "      <th>description</th>\n",
       "      <th>id</th>\n",
       "      <th>duration_int</th>\n",
       "      <th>duration_type</th>\n",
       "      <th>platform</th>\n",
       "      <th>userId</th>\n",
       "      <th>score</th>\n",
       "      <th>timestamp</th>\n",
       "      <th>movieId</th>\n",
       "      <th>score_promedio</th>\n",
       "    </tr>\n",
       "  </thead>\n",
       "  <tbody>\n",
       "    <tr>\n",
       "      <th>0</th>\n",
       "      <td>0</td>\n",
       "      <td>s1</td>\n",
       "      <td>movie</td>\n",
       "      <td>the grand seduction</td>\n",
       "      <td>don mckellar</td>\n",
       "      <td>brendan gleeson, taylor kitsch, gordon pinsent</td>\n",
       "      <td>canada</td>\n",
       "      <td>2021/03/30</td>\n",
       "      <td>2014</td>\n",
       "      <td>g</td>\n",
       "      <td>...</td>\n",
       "      <td>a small fishing village must procure a local d...</td>\n",
       "      <td>as1</td>\n",
       "      <td>113.0</td>\n",
       "      <td>min</td>\n",
       "      <td>amazon</td>\n",
       "      <td>543</td>\n",
       "      <td>5.0</td>\n",
       "      <td>1059596582</td>\n",
       "      <td>as1</td>\n",
       "      <td>3.467131</td>\n",
       "    </tr>\n",
       "    <tr>\n",
       "      <th>1</th>\n",
       "      <td>1</td>\n",
       "      <td>s1</td>\n",
       "      <td>movie</td>\n",
       "      <td>the grand seduction</td>\n",
       "      <td>don mckellar</td>\n",
       "      <td>brendan gleeson, taylor kitsch, gordon pinsent</td>\n",
       "      <td>canada</td>\n",
       "      <td>2021/03/30</td>\n",
       "      <td>2014</td>\n",
       "      <td>g</td>\n",
       "      <td>...</td>\n",
       "      <td>a small fishing village must procure a local d...</td>\n",
       "      <td>as1</td>\n",
       "      <td>113.0</td>\n",
       "      <td>min</td>\n",
       "      <td>amazon</td>\n",
       "      <td>595</td>\n",
       "      <td>3.0</td>\n",
       "      <td>839937603</td>\n",
       "      <td>as1</td>\n",
       "      <td>3.467131</td>\n",
       "    </tr>\n",
       "    <tr>\n",
       "      <th>2</th>\n",
       "      <td>2</td>\n",
       "      <td>s1</td>\n",
       "      <td>movie</td>\n",
       "      <td>the grand seduction</td>\n",
       "      <td>don mckellar</td>\n",
       "      <td>brendan gleeson, taylor kitsch, gordon pinsent</td>\n",
       "      <td>canada</td>\n",
       "      <td>2021/03/30</td>\n",
       "      <td>2014</td>\n",
       "      <td>g</td>\n",
       "      <td>...</td>\n",
       "      <td>a small fishing village must procure a local d...</td>\n",
       "      <td>as1</td>\n",
       "      <td>113.0</td>\n",
       "      <td>min</td>\n",
       "      <td>amazon</td>\n",
       "      <td>611</td>\n",
       "      <td>3.0</td>\n",
       "      <td>978549108</td>\n",
       "      <td>as1</td>\n",
       "      <td>3.467131</td>\n",
       "    </tr>\n",
       "    <tr>\n",
       "      <th>3</th>\n",
       "      <td>3</td>\n",
       "      <td>s1</td>\n",
       "      <td>movie</td>\n",
       "      <td>the grand seduction</td>\n",
       "      <td>don mckellar</td>\n",
       "      <td>brendan gleeson, taylor kitsch, gordon pinsent</td>\n",
       "      <td>canada</td>\n",
       "      <td>2021/03/30</td>\n",
       "      <td>2014</td>\n",
       "      <td>g</td>\n",
       "      <td>...</td>\n",
       "      <td>a small fishing village must procure a local d...</td>\n",
       "      <td>as1</td>\n",
       "      <td>113.0</td>\n",
       "      <td>min</td>\n",
       "      <td>amazon</td>\n",
       "      <td>2523</td>\n",
       "      <td>3.5</td>\n",
       "      <td>1340634980</td>\n",
       "      <td>as1</td>\n",
       "      <td>3.467131</td>\n",
       "    </tr>\n",
       "    <tr>\n",
       "      <th>4</th>\n",
       "      <td>4</td>\n",
       "      <td>s1</td>\n",
       "      <td>movie</td>\n",
       "      <td>the grand seduction</td>\n",
       "      <td>don mckellar</td>\n",
       "      <td>brendan gleeson, taylor kitsch, gordon pinsent</td>\n",
       "      <td>canada</td>\n",
       "      <td>2021/03/30</td>\n",
       "      <td>2014</td>\n",
       "      <td>g</td>\n",
       "      <td>...</td>\n",
       "      <td>a small fishing village must procure a local d...</td>\n",
       "      <td>as1</td>\n",
       "      <td>113.0</td>\n",
       "      <td>min</td>\n",
       "      <td>amazon</td>\n",
       "      <td>3082</td>\n",
       "      <td>4.0</td>\n",
       "      <td>954396636</td>\n",
       "      <td>as1</td>\n",
       "      <td>3.467131</td>\n",
       "    </tr>\n",
       "  </tbody>\n",
       "</table>\n",
       "<p>5 rows × 22 columns</p>\n",
       "</div>"
      ],
      "text/plain": [
       "   Unnamed: 0 show_id   type                title      director  \\\n",
       "0           0      s1  movie  the grand seduction  don mckellar   \n",
       "1           1      s1  movie  the grand seduction  don mckellar   \n",
       "2           2      s1  movie  the grand seduction  don mckellar   \n",
       "3           3      s1  movie  the grand seduction  don mckellar   \n",
       "4           4      s1  movie  the grand seduction  don mckellar   \n",
       "\n",
       "                                             cast country  date_added  \\\n",
       "0  brendan gleeson, taylor kitsch, gordon pinsent  canada  2021/03/30   \n",
       "1  brendan gleeson, taylor kitsch, gordon pinsent  canada  2021/03/30   \n",
       "2  brendan gleeson, taylor kitsch, gordon pinsent  canada  2021/03/30   \n",
       "3  brendan gleeson, taylor kitsch, gordon pinsent  canada  2021/03/30   \n",
       "4  brendan gleeson, taylor kitsch, gordon pinsent  canada  2021/03/30   \n",
       "\n",
       "   release_year rating  ...  \\\n",
       "0          2014      g  ...   \n",
       "1          2014      g  ...   \n",
       "2          2014      g  ...   \n",
       "3          2014      g  ...   \n",
       "4          2014      g  ...   \n",
       "\n",
       "                                         description   id duration_int  \\\n",
       "0  a small fishing village must procure a local d...  as1        113.0   \n",
       "1  a small fishing village must procure a local d...  as1        113.0   \n",
       "2  a small fishing village must procure a local d...  as1        113.0   \n",
       "3  a small fishing village must procure a local d...  as1        113.0   \n",
       "4  a small fishing village must procure a local d...  as1        113.0   \n",
       "\n",
       "  duration_type  platform userId score   timestamp  movieId  score_promedio  \n",
       "0           min    amazon    543   5.0  1059596582      as1        3.467131  \n",
       "1           min    amazon    595   3.0   839937603      as1        3.467131  \n",
       "2           min    amazon    611   3.0   978549108      as1        3.467131  \n",
       "3           min    amazon   2523   3.5  1340634980      as1        3.467131  \n",
       "4           min    amazon   3082   4.0   954396636      as1        3.467131  \n",
       "\n",
       "[5 rows x 22 columns]"
      ]
     },
     "execution_count": 14,
     "metadata": {},
     "output_type": "execute_result"
    }
   ],
   "source": [
    "df_con_promedio.head(5)"
   ]
  },
  {
   "cell_type": "code",
   "execution_count": 13,
   "metadata": {},
   "outputs": [
    {
     "data": {
      "text/plain": [
       "{'plataforma': 'netflix', 'peliculas': 6131}"
      ]
     },
     "execution_count": 13,
     "metadata": {},
     "output_type": "execute_result"
    }
   ],
   "source": [
    "mask = (df_score['type']== 'movie') & (df_score['platform']==platform)\n",
    "\n",
    "df_aux=df_score[mask]\n",
    "\n",
    "cantidad=len(df_aux['movieId'].drop_duplicates().index)\n",
    "\n",
    "respuesta = {\n",
    "    'plataforma': platform,\n",
    "    'peliculas': cantidad\n",
    "}\n",
    "respuesta"
   ]
  },
  {
   "cell_type": "code",
   "execution_count": 12,
   "metadata": {},
   "outputs": [
    {
     "name": "stderr",
     "output_type": "stream",
     "text": [
      "C:\\Users\\yesen\\AppData\\Local\\Temp\\ipykernel_16304\\358113233.py:5: SettingWithCopyWarning: \n",
      "A value is trying to be set on a copy of a slice from a DataFrame\n",
      "\n",
      "See the caveats in the documentation: https://pandas.pydata.org/pandas-docs/stable/user_guide/indexing.html#returning-a-view-versus-a-copy\n",
      "  df_aux['movieId'].drop_duplicates(inplace=True)\n"
     ]
    }
   ],
   "source": [
    "year = release_year\n",
    "\n",
    "mask = (df_score['platform']==platform) & (df_score['release_year']==year) & (df_score['cast'] != 'unknown')\n",
    "df_aux = df_score[mask]\n",
    "df_aux['movieId'].drop_duplicates(inplace=True)\n",
    "df_aux = df_aux['cast']\n",
    "cast= df_aux.str.split(',').explode()\n",
    "cant=cast.value_counts()\n",
    "\n",
    "maximo = max(cant.items(), key=lambda x: x[1])\n",
    "respuesta={\n",
    "    'plataforma': platform,\n",
    "    'anio': year,\n",
    "    'actor': maximo[0],\n",
    "    'apariciones': maximo[1]\n",
    "}"
   ]
  },
  {
   "cell_type": "code",
   "execution_count": 13,
   "metadata": {},
   "outputs": [
    {
     "data": {
      "text/plain": [
       "{'plataforma': 'disney',\n",
       " 'anio': 2021,\n",
       " 'actor': ' tress macneille',\n",
       " 'apariciones': 1498}"
      ]
     },
     "execution_count": 13,
     "metadata": {},
     "output_type": "execute_result"
    }
   ],
   "source": [
    "respuesta"
   ]
  },
  {
   "cell_type": "code",
   "execution_count": 17,
   "metadata": {},
   "outputs": [
    {
     "data": {
      "text/plain": [
       "united states                            2395881\n",
       "india                                     577971\n",
       "united kingdom                            278921\n",
       "japan                                     247300\n",
       "canada                                    113877\n",
       "                                          ...   \n",
       "netherlands, belgium, germany, jordan        428\n",
       "sweden, united kingdom, finland              425\n",
       "united states, botswana                      423\n",
       "spain, belgium, united states                421\n",
       "spain, colombia                              416\n",
       "Name: country, Length: 886, dtype: int64"
      ]
     },
     "execution_count": 17,
     "metadata": {},
     "output_type": "execute_result"
    }
   ],
   "source": [
    "visual = df_score['country'].value_counts()\n",
    "visual"
   ]
  },
  {
   "cell_type": "code",
   "execution_count": 16,
   "metadata": {},
   "outputs": [
    {
     "data": {
      "text/plain": [
       "5510080"
      ]
     },
     "execution_count": 16,
     "metadata": {},
     "output_type": "execute_result"
    }
   ],
   "source": [
    "df_score['country'].isnull().sum()"
   ]
  },
  {
   "cell_type": "code",
   "execution_count": 19,
   "metadata": {},
   "outputs": [
    {
     "data": {
      "text/plain": [
       "{'movie': 7897251, 'tv show': 3127038}"
      ]
     },
     "execution_count": 19,
     "metadata": {},
     "output_type": "execute_result"
    }
   ],
   "source": [
    "df_score['type'].value_counts().to_dict()\n"
   ]
  },
  {
   "cell_type": "code",
   "execution_count": 25,
   "metadata": {},
   "outputs": [
    {
     "data": {
      "text/plain": [
       "1913"
      ]
     },
     "execution_count": 25,
     "metadata": {},
     "output_type": "execute_result"
    }
   ],
   "source": [
    "tipo = 'tv show'\n",
    "pais = 'spain'\n",
    "df_aux=df_score.dropna()\n",
    "df_aux = df_aux.loc[df_aux['country'].str.contains(pais)]\n",
    "df_aux = df_aux[df_aux['release_year']==year]\n",
    "\n",
    "respuesta=df_aux['type'].value_counts().to_dict()\n",
    "\n",
    "respuesta[tipo]"
   ]
  },
  {
   "cell_type": "code",
   "execution_count": 26,
   "metadata": {},
   "outputs": [
    {
     "data": {
      "text/plain": [
       "{'pais': 'spain', 'anio': 2021, 'contenido': ('tv show', 1913)}"
      ]
     },
     "execution_count": 26,
     "metadata": {},
     "output_type": "execute_result"
    }
   ],
   "source": [
    "respuesta2={\n",
    "    'pais': pais,\n",
    "    'anio': year,\n",
    "    'contenido': (tipo, respuesta[tipo])\n",
    "}\n",
    "respuesta2"
   ]
  },
  {
   "cell_type": "code",
   "execution_count": 12,
   "metadata": {},
   "outputs": [],
   "source": [
    "rango='g'\n",
    "mask=df_score['rating'] == rango"
   ]
  },
  {
   "cell_type": "code",
   "execution_count": 13,
   "metadata": {},
   "outputs": [
    {
     "data": {
      "text/plain": [
       "1269"
      ]
     },
     "execution_count": 13,
     "metadata": {},
     "output_type": "execute_result"
    }
   ],
   "source": [
    "df_aux=df_score[mask]\n",
    "cantidad=len(df_aux['movieId'].drop_duplicates().index)\n",
    "cantidad"
   ]
  }
 ],
 "metadata": {
  "kernelspec": {
   "display_name": "env",
   "language": "python",
   "name": "python3"
  },
  "language_info": {
   "codemirror_mode": {
    "name": "ipython",
    "version": 3
   },
   "file_extension": ".py",
   "mimetype": "text/x-python",
   "name": "python",
   "nbconvert_exporter": "python",
   "pygments_lexer": "ipython3",
   "version": "3.11.2"
  },
  "orig_nbformat": 4
 },
 "nbformat": 4,
 "nbformat_minor": 2
}
